{
 "cells": [
  {
   "cell_type": "code",
   "execution_count": 26,
   "metadata": {},
   "outputs": [],
   "source": [
    "import numpy as np\n",
    "import pandas as pd\n",
    "from scipy.sparse import csr_matrix, csgraph, csc_matrix\n",
    "from sklearn.metrics.pairwise import cosine_similarity\n",
    "from sklearn.metrics import mean_squared_error\n",
    "from sklearn.cluster import SpectralClustering"
   ]
  },
  {
   "cell_type": "code",
   "execution_count": 2,
   "metadata": {},
   "outputs": [],
   "source": [
    "# load dataset\n",
    "df = pd.read_csv(\"file:/home/jvanover/Documents/ucd/271/programming-assignments/recommendation-system/data/my_train.csv\")\n",
    "\n",
    "# sort by customer-id and movie-id\n",
    "df.sort_values(by=['customer-id','movie-id'], inplace=True)\n",
    "\n",
    "# dicts for mapping ids to indices in the customer_nodes matrix\n",
    "cid_to_index = {key:value for value, key in enumerate(df[\"customer-id\"].unique())}\n",
    "mid_to_index = {key:value for value, key in enumerate(df[\"movie-id\"].unique())}\n",
    "# mid_to_index = {x:x-1 for x in range(1,17771)}\n",
    "\n",
    "# construct customer_nodes matrix\n",
    "row = np.array(df['customer-id'].apply(lambda x : cid_to_index[x]).tolist())\n",
    "col = np.array(df['movie-id'].apply(lambda x : mid_to_index[x]).tolist())\n",
    "data = np.array(df['rating'].tolist())\n",
    "customer_nodes = csc_matrix( (data,(row,col)), shape=(len(cid_to_index), len(mid_to_index)))"
   ]
  },
  {
   "cell_type": "code",
   "execution_count": 3,
   "metadata": {},
   "outputs": [],
   "source": [
    "# calculate cosine similarities to make the affinity matrix\n",
    "W = cosine_similarity(customer_nodes)"
   ]
  },
  {
   "cell_type": "code",
   "execution_count": 82,
   "metadata": {},
   "outputs": [],
   "source": [
    "# perform clustering\n",
    "clustering =  SpectralClustering(\n",
    "                                    n_clusters=25,\n",
    "                                    n_components=7, # number of eigenvectors to use for spectral embedding\n",
    "                                    random_state=25, \n",
    "                                    n_init=10,       # number of k-means iterations\n",
    "                                    affinity='precomputed_nearest_neighbors',\n",
    "                                    n_neighbors=500\n",
    "                                ).fit(W)"
   ]
  },
  {
   "cell_type": "code",
   "execution_count": null,
   "metadata": {},
   "outputs": [],
   "source": [
    "# let's see that clustering distribution!\n",
    " df_cid_clustering = pd.DataFrame.from_dict(\n",
    "                                             { key:value for key,value in zip( df[\"customer-id\"].unique() , clustering.labels_ ) },\n",
    "                                             orient='index',\n",
    "                                             columns=[\"cluster\"]\n",
    "                                         ).reset_index()\n",
    " df_cid_clustering[\"cluster\"].value_counts()"
   ]
  },
  {
   "cell_type": "code",
   "execution_count": 83,
   "metadata": {},
   "outputs": [],
   "source": [
    "# create mapping from cid to cluster and vice-versa\n",
    "cid_to_cluster = { key:value for key,value in zip( df[\"customer-id\"].unique() , clustering.labels_ ) }\n",
    "cluster_to_cids = [[] for x in range(len(clustering.labels_))]\n",
    "for cid, cluster_no in cid_to_cluster.items():\n",
    "    cluster_to_cids[cluster_no].append(cid)"
   ]
  },
  {
   "cell_type": "code",
   "execution_count": 113,
   "metadata": {},
   "outputs": [],
   "source": [
    "def estimate_rating(cid, mid):\n",
    "    \n",
    "    # what other customers are in this cluster?\n",
    "    cids = cluster_to_cids[cid_to_cluster[cid]]\n",
    "    \n",
    "    cid_indices = [cid_to_index[x] for x in cids]\n",
    "    mid_index = mid_to_index[mid]\n",
    "    \n",
    "    # get slice of cids from the same cluster for the particular mid\n",
    "    temp = customer_nodes.getcol(mid_index).tocsr()[cid_indices]\n",
    "    \n",
    "    # eliminate zeros and calculate mean of nonzero data\n",
    "    temp.eliminate_zeros()\n",
    "    if temp.nnz > 0:\n",
    "        average_rating = round(temp.data.mean())\n",
    "    else:\n",
    "        average_rating = 0\n",
    "        \n",
    "    return average_rating"
   ]
  },
  {
   "cell_type": "code",
   "execution_count": 114,
   "metadata": {},
   "outputs": [
    {
     "data": {
      "text/plain": [
       "1.5394103136379655"
      ]
     },
     "execution_count": 114,
     "metadata": {},
     "output_type": "execute_result"
    }
   ],
   "source": [
    "df_eval = pd.read_csv(\"file:/home/jvanover/Documents/ucd/271/programming-assignments/recommendation-system/data/my_eval_blank.csv\")\n",
    "df_eval_answers = pd.read_csv(\"file:/home/jvanover/Documents/ucd/271/programming-assignments/recommendation-system/data/my_eval_answers.csv\")\n",
    "\n",
    "df_eval[\"rating\"] = df_eval.apply(lambda row : estimate_rating(row[\"customer-id\"],row[\"movie-id\"]), axis=1)\n",
    "\n",
    "mean_squared_error(df_eval_answers[\"rating\"].tolist(),df_eval[\"rating\"])"
   ]
  },
  {
   "cell_type": "code",
   "execution_count": 115,
   "metadata": {},
   "outputs": [
    {
     "data": {
      "text/plain": [
       "4.0    56415\n",
       "3.0    28146\n",
       "5.0     3279\n",
       "0.0     2956\n",
       "2.0     2520\n",
       "1.0      279\n",
       "6.0       47\n",
       "7.0        1\n",
       "Name: rating, dtype: int64"
      ]
     },
     "execution_count": 115,
     "metadata": {},
     "output_type": "execute_result"
    }
   ],
   "source": [
    "df_eval[\"rating\"].value_counts()"
   ]
  },
  {
   "cell_type": "code",
   "execution_count": 112,
   "metadata": {},
   "outputs": [
    {
     "data": {
      "text/plain": [
       "4    31755\n",
       "3    26585\n",
       "5    22226\n",
       "2     9044\n",
       "1     4033\n",
       "Name: rating, dtype: int64"
      ]
     },
     "execution_count": 112,
     "metadata": {},
     "output_type": "execute_result"
    }
   ],
   "source": [
    "df_eval_answers[\"rating\"].value_counts()"
   ]
  }
 ],
 "metadata": {
  "kernelspec": {
   "display_name": "Python 3",
   "language": "python",
   "name": "python3"
  },
  "language_info": {
   "codemirror_mode": {
    "name": "ipython",
    "version": 3
   },
   "file_extension": ".py",
   "mimetype": "text/x-python",
   "name": "python",
   "nbconvert_exporter": "python",
   "pygments_lexer": "ipython3",
   "version": "3.6.9"
  }
 },
 "nbformat": 4,
 "nbformat_minor": 4
}
