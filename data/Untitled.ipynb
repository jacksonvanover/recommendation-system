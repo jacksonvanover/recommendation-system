{
 "cells": [
  {
   "cell_type": "code",
   "execution_count": 66,
   "metadata": {},
   "outputs": [],
   "source": [
    "import pandas as pd\n",
    "import math\n",
    "\n",
    "df = pd.read_csv(\"file:/home/jvanover/Documents/ucd/271/programming-assignments/recommendation-system/data/train.csv\")\n",
    "df.sort_values(by=['customer-id'], inplace=True)"
   ]
  },
  {
   "cell_type": "code",
   "execution_count": 67,
   "metadata": {},
   "outputs": [],
   "source": [
    "eval_size_per_cid = df['customer-id'].value_counts().apply(lambda x: math.floor(x/10)).to_dict()\n",
    "eval_size_per_mid = df['movie-id'].value_counts().apply(lambda x: math.floor(x/10)).to_dict()"
   ]
  },
  {
   "cell_type": "code",
   "execution_count": 70,
   "metadata": {},
   "outputs": [],
   "source": [
    "my_train = []\n",
    "my_eval = []\n",
    "for index, row in df.iterrows():\n",
    "    if eval_size_per_cid[row[\"customer-id\"]] != 0 and eval_size_per_mid[row[\"movie-id\"]] != 0:\n",
    "        my_eval.append(row)\n",
    "        eval_size_per_cid[row[\"customer-id\"]] -= 1\n",
    "        eval_size_per_mid[row[\"movie-id\"]] -= 1        \n",
    "    else:\n",
    "        my_train.append(row)"
   ]
  },
  {
   "cell_type": "code",
   "execution_count": 71,
   "metadata": {},
   "outputs": [],
   "source": [
    "df_my_train = pd.DataFrame(my_train)\n",
    "df_my_eval = pd.DataFrame(my_eval)"
   ]
  },
  {
   "cell_type": "code",
   "execution_count": 75,
   "metadata": {},
   "outputs": [
    {
     "data": {
      "text/plain": [
       "16142"
      ]
     },
     "execution_count": 75,
     "metadata": {},
     "output_type": "execute_result"
    }
   ],
   "source": [
    "df_my_train[\"movie-id\"].nunique()"
   ]
  },
  {
   "cell_type": "code",
   "execution_count": 76,
   "metadata": {},
   "outputs": [
    {
     "data": {
      "text/plain": [
       "7090"
      ]
     },
     "execution_count": 76,
     "metadata": {},
     "output_type": "execute_result"
    }
   ],
   "source": [
    "df_my_eval[\"movie-id\"].nunique()"
   ]
  },
  {
   "cell_type": "code",
   "execution_count": null,
   "metadata": {},
   "outputs": [],
   "source": []
  }
 ],
 "metadata": {
  "kernelspec": {
   "display_name": "Python 3",
   "language": "python",
   "name": "python3"
  },
  "language_info": {
   "codemirror_mode": {
    "name": "ipython",
    "version": 3
   },
   "file_extension": ".py",
   "mimetype": "text/x-python",
   "name": "python",
   "nbconvert_exporter": "python",
   "pygments_lexer": "ipython3",
   "version": "3.6.9"
  }
 },
 "nbformat": 4,
 "nbformat_minor": 4
}
