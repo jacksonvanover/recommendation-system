{
 "cells": [
  {
   "cell_type": "code",
   "execution_count": 30,
   "metadata": {},
   "outputs": [],
   "source": [
    "import pandas as pd\n",
    "import math"
   ]
  },
  {
   "cell_type": "code",
   "execution_count": 50,
   "metadata": {},
   "outputs": [],
   "source": [
    "df = pd.read_csv(\"file:/home/jvanover/Documents/ucd/271/programming-assignments/recommendation-system/data/train.csv\")\n",
    "df.sort_values(by=['customer-id'], inplace=True)"
   ]
  },
  {
   "cell_type": "code",
   "execution_count": 54,
   "metadata": {},
   "outputs": [],
   "source": [
    "eval_size_per_cid = df['customer-id'].value_counts().apply(lambda x: math.floor(x/10)).to_dict()\n",
    "eval_size_per_mid = df['movie-id'].value_counts().apply(lambda x: math.floor(x/10)).to_dict()"
   ]
  },
  {
   "cell_type": "code",
   "execution_count": 39,
   "metadata": {},
   "outputs": [],
   "source": [
    "my_train = []\n",
    "my_eval = []\n",
    "for index, row in df.iterrows():\n",
    "    if eval_size_per_cid[row[\"customer-id\"]] != 0:\n",
    "        my_eval.append(row)\n",
    "        eval_size_per_cid[row[\"customer-id\"]] -= 1\n",
    "    else:\n",
    "        my_train.append(row)"
   ]
  },
  {
   "cell_type": "code",
   "execution_count": 40,
   "metadata": {},
   "outputs": [],
   "source": [
    "df_my_train = pd.DataFrame(my_train)"
   ]
  },
  {
   "cell_type": "code",
   "execution_count": 48,
   "metadata": {},
   "outputs": [
    {
     "data": {
      "text/plain": [
       "15887"
      ]
     },
     "execution_count": 48,
     "metadata": {},
     "output_type": "execute_result"
    }
   ],
   "source": [
    "df_my_train[\"movie-id\"].nunique()"
   ]
  },
  {
   "cell_type": "code",
   "execution_count": 42,
   "metadata": {},
   "outputs": [],
   "source": [
    "df_my_eval = pd.DataFrame(my_eval)"
   ]
  },
  {
   "cell_type": "code",
   "execution_count": 46,
   "metadata": {},
   "outputs": [
    {
     "data": {
      "text/html": [
       "<div>\n",
       "<style scoped>\n",
       "    .dataframe tbody tr th:only-of-type {\n",
       "        vertical-align: middle;\n",
       "    }\n",
       "\n",
       "    .dataframe tbody tr th {\n",
       "        vertical-align: top;\n",
       "    }\n",
       "\n",
       "    .dataframe thead th {\n",
       "        text-align: right;\n",
       "    }\n",
       "</style>\n",
       "<table border=\"1\" class=\"dataframe\">\n",
       "  <thead>\n",
       "    <tr style=\"text-align: right;\">\n",
       "      <th></th>\n",
       "      <th>movie-id</th>\n",
       "      <th>customer-id</th>\n",
       "      <th>rating</th>\n",
       "      <th>date</th>\n",
       "    </tr>\n",
       "  </thead>\n",
       "  <tbody>\n",
       "    <tr>\n",
       "      <th>701392</th>\n",
       "      <td>12918</td>\n",
       "      <td>6</td>\n",
       "      <td>5</td>\n",
       "      <td>2004-09-22</td>\n",
       "    </tr>\n",
       "    <tr>\n",
       "      <th>757690</th>\n",
       "      <td>7643</td>\n",
       "      <td>6</td>\n",
       "      <td>3</td>\n",
       "      <td>2004-12-14</td>\n",
       "    </tr>\n",
       "    <tr>\n",
       "      <th>318660</th>\n",
       "      <td>329</td>\n",
       "      <td>6</td>\n",
       "      <td>4</td>\n",
       "      <td>2004-09-15</td>\n",
       "    </tr>\n",
       "    <tr>\n",
       "      <th>893542</th>\n",
       "      <td>8743</td>\n",
       "      <td>6</td>\n",
       "      <td>4</td>\n",
       "      <td>2005-11-25</td>\n",
       "    </tr>\n",
       "    <tr>\n",
       "      <th>394292</th>\n",
       "      <td>7509</td>\n",
       "      <td>6</td>\n",
       "      <td>3</td>\n",
       "      <td>2005-12-04</td>\n",
       "    </tr>\n",
       "    <tr>\n",
       "      <th>...</th>\n",
       "      <td>...</td>\n",
       "      <td>...</td>\n",
       "      <td>...</td>\n",
       "      <td>...</td>\n",
       "    </tr>\n",
       "    <tr>\n",
       "      <th>422812</th>\n",
       "      <td>11149</td>\n",
       "      <td>33182</td>\n",
       "      <td>3</td>\n",
       "      <td>2005-07-01</td>\n",
       "    </tr>\n",
       "    <tr>\n",
       "      <th>884145</th>\n",
       "      <td>3427</td>\n",
       "      <td>33182</td>\n",
       "      <td>3</td>\n",
       "      <td>2005-07-01</td>\n",
       "    </tr>\n",
       "    <tr>\n",
       "      <th>389803</th>\n",
       "      <td>12476</td>\n",
       "      <td>33182</td>\n",
       "      <td>2</td>\n",
       "      <td>2005-07-01</td>\n",
       "    </tr>\n",
       "    <tr>\n",
       "      <th>872076</th>\n",
       "      <td>334</td>\n",
       "      <td>33182</td>\n",
       "      <td>3</td>\n",
       "      <td>2005-07-19</td>\n",
       "    </tr>\n",
       "    <tr>\n",
       "      <th>661294</th>\n",
       "      <td>6196</td>\n",
       "      <td>33182</td>\n",
       "      <td>5</td>\n",
       "      <td>2005-07-01</td>\n",
       "    </tr>\n",
       "  </tbody>\n",
       "</table>\n",
       "<p>97375 rows × 4 columns</p>\n",
       "</div>"
      ],
      "text/plain": [
       "        movie-id  customer-id  rating        date\n",
       "701392     12918            6       5  2004-09-22\n",
       "757690      7643            6       3  2004-12-14\n",
       "318660       329            6       4  2004-09-15\n",
       "893542      8743            6       4  2005-11-25\n",
       "394292      7509            6       3  2005-12-04\n",
       "...          ...          ...     ...         ...\n",
       "422812     11149        33182       3  2005-07-01\n",
       "884145      3427        33182       3  2005-07-01\n",
       "389803     12476        33182       2  2005-07-01\n",
       "872076       334        33182       3  2005-07-19\n",
       "661294      6196        33182       5  2005-07-01\n",
       "\n",
       "[97375 rows x 4 columns]"
      ]
     },
     "execution_count": 46,
     "metadata": {},
     "output_type": "execute_result"
    }
   ],
   "source": [
    "df_my_eval"
   ]
  },
  {
   "cell_type": "code",
   "execution_count": 47,
   "metadata": {},
   "outputs": [
    {
     "data": {
      "text/plain": [
       "0.10787979504223792"
      ]
     },
     "execution_count": 47,
     "metadata": {},
     "output_type": "execute_result"
    }
   ],
   "source": [
    "97375/ (902625)"
   ]
  },
  {
   "cell_type": "code",
   "execution_count": null,
   "metadata": {},
   "outputs": [],
   "source": []
  }
 ],
 "metadata": {
  "kernelspec": {
   "display_name": "Python 3",
   "language": "python",
   "name": "python3"
  },
  "language_info": {
   "codemirror_mode": {
    "name": "ipython",
    "version": 3
   },
   "file_extension": ".py",
   "mimetype": "text/x-python",
   "name": "python",
   "nbconvert_exporter": "python",
   "pygments_lexer": "ipython3",
   "version": "3.6.9"
  }
 },
 "nbformat": 4,
 "nbformat_minor": 4
}
