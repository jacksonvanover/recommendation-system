{
 "cells": [
  {
   "cell_type": "code",
   "execution_count": 66,
   "metadata": {},
   "outputs": [],
   "source": [
    "import pandas as pd\n",
    "import math\n",
    "\n",
    "# load dataset\n",
    "df = pd.read_csv(\"file:/home/jvanover/Documents/ucd/271/programming-assignments/recommendation-system/data/train.csv\")\n",
    "df.sort_values(by=['customer-id'], inplace=True)"
   ]
  },
  {
   "cell_type": "code",
   "execution_count": 67,
   "metadata": {},
   "outputs": [],
   "source": [
    "# for each customer-id and each movie-id, figure out\n",
    "# how many entries constitute 10% of their total\n",
    "# representation in the whole dataset\n",
    "eval_size_per_cid = df['customer-id'].value_counts().apply(lambda x: math.floor(x/10)).to_dict()\n",
    "eval_size_per_mid = df['movie-id'].value_counts().apply(lambda x: math.floor(x/10)).to_dict()"
   ]
  },
  {
   "cell_type": "code",
   "execution_count": 70,
   "metadata": {},
   "outputs": [],
   "source": [
    "# split training set\n",
    "my_train = []\n",
    "my_eval = []\n",
    "for index, row in df.iterrows():\n",
    "    if eval_size_per_cid[row[\"customer-id\"]] != 0 and eval_size_per_mid[row[\"movie-id\"]] != 0:\n",
    "        my_eval.append(row)\n",
    "        eval_size_per_cid[row[\"customer-id\"]] -= 1\n",
    "        eval_size_per_mid[row[\"movie-id\"]] -= 1        \n",
    "    else:\n",
    "        my_train.append(row)"
   ]
  },
  {
   "cell_type": "code",
   "execution_count": 71,
   "metadata": {},
   "outputs": [],
   "source": [
    "# construct dataFrames and write them out as csv files\n",
    "df_my_train = pd.DataFrame(my_train)\n",
    "df_my_eval_answers = pd.DataFrame(my_eval)\n",
    "df_my_eval_blank = pd.DataFrane(my_eval)\n",
    "df_my_eval_blank[\"rating\"] = df_my_eval_blank[\"rating\"].apply(lambda x : \"?\")\n",
    "\n",
    "df_my_train.to_csv(\"my_train.csv\", index=False)\n",
    "df_my_eval_answers.to_csv(\"my_eval_answers.csv\", index=False)\n",
    "df_my_eval_blank.to_csv(\"my_eval_blank.csv\", index=False)"
   ]
  }
 ],
 "metadata": {
  "kernelspec": {
   "display_name": "Python 3",
   "language": "python",
   "name": "python3"
  },
  "language_info": {
   "codemirror_mode": {
    "name": "ipython",
    "version": 3
   },
   "file_extension": ".py",
   "mimetype": "text/x-python",
   "name": "python",
   "nbconvert_exporter": "python",
   "pygments_lexer": "ipython3",
   "version": "3.6.9"
  }
 },
 "nbformat": 4,
 "nbformat_minor": 4
}
